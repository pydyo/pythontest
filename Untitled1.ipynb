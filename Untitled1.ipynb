{
  "nbformat": 4,
  "nbformat_minor": 0,
  "metadata": {
    "colab": {
      "provenance": [],
      "authorship_tag": "ABX9TyNajKmAAZKS8/RUKjInp/P/",
      "include_colab_link": true
    },
    "kernelspec": {
      "name": "python3",
      "display_name": "Python 3"
    },
    "language_info": {
      "name": "python"
    }
  },
  "cells": [
    {
      "cell_type": "markdown",
      "metadata": {
        "id": "view-in-github",
        "colab_type": "text"
      },
      "source": [
        "<a href=\"https://colab.research.google.com/github/pydyo/pythontest/blob/main/Untitled1.ipynb\" target=\"_parent\"><img src=\"https://colab.research.google.com/assets/colab-badge.svg\" alt=\"Open In Colab\"/></a>"
      ]
    },
    {
      "cell_type": "code",
      "execution_count": 4,
      "metadata": {
        "colab": {
          "base_uri": "https://localhost:8080/"
        },
        "id": "VYrN0qpnuCoO",
        "outputId": "242d7675-b566-450e-8381-fc7bff8a89e0"
      },
      "outputs": [
        {
          "output_type": "stream",
          "name": "stdout",
          "text": [
            "จำนวนที่ 1:6\n",
            "จำนวนที่ 2:9\n",
            "จำนวนที่ 3:4\n",
            "คำน้อยสุด คือ 4\n"
          ]
        }
      ],
      "source": [
        "a = int(input(\"จำนวนที่ 1:\"))\n",
        "b = int(input(\"จำนวนที่ 2:\"))\n",
        "c = int(input(\"จำนวนที่ 3:\"))\n",
        "m = a\n",
        "if(b<m):\n",
        "    m = b\n",
        "if(c<m):\n",
        "    m = c\n",
        "print(\"คำน้อยสุด คือ\",m)\n"
      ]
    }
  ]
}